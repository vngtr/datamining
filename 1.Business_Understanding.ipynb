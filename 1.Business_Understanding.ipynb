{
 "cells": [
  {
   "cell_type": "markdown",
   "metadata": {},
   "source": [
    "## Predictive Analytics im HR - Fluktuation frühzeitig erkennen"
   ]
  },
  {
   "cell_type": "markdown",
   "metadata": {
    "vscode": {
     "languageId": "plaintext"
    }
   },
   "source": [
    "#### 0. Abstract\n",
    "\n",
    "Im Rahmen dieser Projektarbeit soll mittels Machine Learning Methoden ein Modell entwickelt werden, welches anhand verschiedener Merkmale Vorhersagen zur Mitarbeiterfluktuation zulässt. Beispielhaft wurde hierfür ein Kaggle Datensatz mit hypothetischen Mitarbeiterdaten, unter anderem zur Demografie, Einkommen, Betriebszugehörigkeit und Arbeitszufriedenheit sowie der Information, ob das Unternehmen verlassen wurde oder nicht, herangezogen. Der Entwicklungsprozess folgt dabei dem gängigen Ansatz und Analysemodell CRISP-DM. Unter den gerechneten Machine Learning Modellen konnte das mittels xxxlinearer Regressionxxx mit einer Accuracy von xxx %  unter Betrachtung der Merkmale xxx die Tendenz eines Beschäftigten das Unternehmen zu verlassen am zuverlässigsten prognostizieren. Vor der Umsetzung bedarf es weiterer Überlegungen im Hinblick auf Datenmenge und -qualität. Diesbezüglich muss das Modell mit realen Mitarbeiterdaten evaluiert und weiterentwickelt werden.\n",
    "\n",
    "---\n",
    "\n",
    "*Von Vanessa Güttinger, Johannes Hänle, Annika Raff, Natalie Rudolf im Fach Data Mining & Visual Analytics*"
   ]
  },
  {
   "cell_type": "markdown",
   "metadata": {},
   "source": [
    "#### 1. Einleitung"
   ]
  }
 ],
 "metadata": {
  "language_info": {
   "name": "python"
  }
 },
 "nbformat": 4,
 "nbformat_minor": 2
}
