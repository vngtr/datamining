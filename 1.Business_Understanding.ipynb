{
 "cells": [
  {
   "cell_type": "markdown",
   "metadata": {},
   "source": [
    "## Predictive Analytics im HR - Fluktuation frühzeitig erkennen"
   ]
  },
  {
   "cell_type": "markdown",
   "metadata": {
    "vscode": {
     "languageId": "plaintext"
    }
   },
   "source": [
    "#### 0. Abstract\n",
    "\n",
    "Im Rahmen dieser Projektarbeit soll mittels Machine Learning Methoden ein Modell entwickelt werden, welches anhand verschiedener Merkmale Vorhersagen zur Mitarbeiterfluktuation zulässt. Beispielhaft wurde hierfür ein Kaggle Datensatz mit hypothetischen Mitarbeiterdaten, unter anderem zur Demografie, Einkommen, Betriebszugehörigkeit und Arbeitszufriedenheit sowie der Information, ob das Unternehmen verlassen wurde oder nicht, herangezogen. Der Entwicklungsprozess folgt dabei dem gängigen Ansatz und Analysemodell CRISP-DM. Unter den gerechneten Machine Learning Modellen konnte das mittels xxxlinearer Regressionxxx mit einer Accuracy von xxx %  unter Betrachtung der Merkmale xxx die Tendenz eines Beschäftigten das Unternehmen zu verlassen am zuverlässigsten prognostizieren. Vor der Umsetzung bedarf es weiterer Überlegungen im Hinblick auf Datenmenge und -qualität. Diesbezüglich muss das Modell mit realen Mitarbeiterdaten evaluiert und weiterentwickelt werden.\n",
    "\n",
    "---\n",
    "\n",
    "*Von Vanessa Güttinger, Johannes Hänle, Annika Raff, Natalie Rudolf im Fach Data Mining & Visual Analytics*"
   ]
  },
  {
   "cell_type": "markdown",
   "metadata": {},
   "source": [
    "#### 1. Einleitung\n",
    "\n",
    "Reaktionen des Unternehmensmanagements auf Kündigungen seitens ihrer Mitarbeiter lauten häufig „die Guten gehen zuerst“ oder „Reisende soll man nicht aufhalten“. Zwar ist die Arbeitskräftefluktuation in Deutschland seit Jahren mit 31 bis 33 Prozent recht konstant und die wirtschaftliche Lage sowie die damit einhergehende Entspannung am Arbeitsmarkt deuten auf weniger Personalbewegung hin, dennoch bleiben die Kosten für Unternehmen im Zusammenhang mit dem Abgang qualifizierter Arbeitskräfte hoch (Monsef 2023). Umso wichtiger ist es für Unternehmen, auch angesichts des anhaltenden Fachkräftemangels, Mitarbeiterabgänge frühzeitig zu erkennen um entsprechende Maßnahmen einzuleiten. Aus diesem Bedarf ergibt sich das Ziel der vorliegenden Datenanalyse im Rahmen des Moduls Data Mining und Visual Analytics: Die Anwendung geeigneter Machine Learning-Methoden zur Prognose der Mitarbeiterfluktuation. Grundlage hierfür bietet der Kaggle-Datensatz „HR-Employee-Atrittion“ von IBM. Exemplarisch sollen diese Daten dazu genutzt werden, ein optimales Modell zu trainieren und auszuwählen, das später in den Unternehmen auf reale Daten angewandt werden kann. Um einen möglichst strukturierten Ablauf zu gewährleisten, folgen sowohl das Projekt als auch der vorliegende Bericht der Methodik des Prozessmodells für Data Mining CRISP-DM (siehe Abbildung 1). Dieses besteht aus sechs iterativen Phasen (Chapman et al. 2000) und hat sich in der Praxis -auch innerhalb agiler Teams- bewährt (Saltz et al. 2017).\n",
    "\n",
    "![Crisp-DM](Abbildungen/Crisp-DM.png \"Abbildung 1\")\n",
    "\n",
    "*Abbildung 1: Prozessmodell CRISP-DM (eigene Darstellung in Anlehnung an (Chapman et al., 2000))*\n",
    "\n",
    "Im ersten Schritt wird der Business Case bewertet. Wichtigster Aspekt dieser Phase ist die Festlegung des Projektziels sowie dessen Erfolgskriterien und Mehrwert. Außerdem soll hier durch die Darstellung des aktuellen Stand der Forschung ein Verständnis für die zugrundeliegenden Mechanismen geschaffen werden. Bevor die Daten entsprechend aufbereitet werden und eine Architektur vorgeschlagen wird, gilt es im Rahmen des Kapitels Data Understanding ein Verständnis für die Datengrundlage zu schaffen. In der vierten Phase werden verschiedene Modellierungstechniken in Abhängigkeit der Anforderungen und der Daten thematisiert. Bevor die Erkenntnisse in der letzten Phase im Zuge eines ersten Prototyps bereitgestellt werden, gilt es die Modelle anhand festgelegter Projektziele sowie Erfolgs- und Gütekriterien zu evaluieren und auszuwählen. Schlussendlich werden im Fazit noch einmal die relevantesten Ergebnisse in Hinblick auf Limitationen und Ausblick eingeordnet (Chapman et al. 2000)."
   ]
  },
  {
   "cell_type": "markdown",
   "metadata": {},
   "source": [
    "#### 2. Business Understanding\n",
    "\n",
    "Der rasante Fortschritt in der Informationstechnologie und dem damit einhergehenden Anstieg der Daten haben zu einer Veränderung in der Arbeitsweise von Entscheidungsträger in Organisationen geführt. Allerdings gibt es noch immer wenige Best Practices (im Gegenteil zu anderen Bereichen wie Finance und Marketing), wie man die reichhaltigen Daten über Mitarbeiter für bessere Entscheidungen im Personalwesen nutzen kann. Eines der meist diskutierten Themen in diesem Zusammenhang ist die Mitarbeiterfluktuation und vor allem die frühe Detektion dieser (Ekawati 2019). Aufgrund dieser Erfordernisse ergeben sich für das vorliegende Projekt folgende Ziele:\n",
    "\n",
    "*1) Untersuchung verschiedener prädiktiven Analysemethoden,*   \n",
    "*2) die Identifizierung der relevanten Kriterien zur Vorhersage der Fluktuation,*  \n",
    "*3) sowie die Auswahl eines optimalen Modells in Bezug auf Vorhersagegenauigkeit, Komplexität, Modellqualität und Umsetzbarkeit.*  \n",
    "\n",
    "Im Business Understanding ist es unerlässlich, sich zunächst mit dem aktuellen Stand der Forschung zu befassen und relevante Konstrukte wie die Mitarbeiterfluktuation darzustellen. Außerdem soll im Folgenden ein Verständnis für die angewandten Machine-Learning-Methoden sowie prädiktiver Analysen kurz vorgestellt werden. Aus Gründen der Veranschaulichung erfolgt die tiefergreifende Beschreibung der Modelle und eingesetzten Libraries im Rahmen des Modeling.  \n",
    "\n",
    "##### *2.1 Mitarbeiterfluktuation*\n",
    "Im allgemeinen kann Mitarbeiterfluktuation als die Rotation von Arbeitskräften auf dem Arbeitsmarkt, zwischen Firmen, Jobs und Berufen sowie zwischen Zuständen von Beschäftigung und Arbeitslosigkeit verstanden werden (Abbasi und Hollman 2000).Hom und Griffeth haben in ihrer Studie das sog. \"Unfolding Model\" der freiwilligen Fluktuation thematisiert und dabei mehr den Entscheidungsaspekt des Mitarbeiters in den Fokus gestellt. Basierend auf der Image-Theorie gehen die Autoren davon aus, dass freiwillige Fluktuation als Entscheidung zur Kündigung angesehen wird. Die Prämisse: Menschen haben zuvor die Gründe für das Verlassen analysiert (Palich 1995).Bis heute gibt es allerdings wenig Konsistenz in den Ergebnissen was die Absicht der Menschen bestimmt, eine Organisation zu verlassen. Im Rahmen eines Literatur Review hat Ongori (2007) die Erkenntnisse zusammengefasst. Folglich können die Gründe nach ihrer Art entweder den jobbezogenen oder organisationalen Faktoren zugeschrieben werden. Organisationale Instabilität beispielsweise kann zu letzterem gezählt werden. Laut Zuber (2001) sind Mitarbeiter eher gewollt ein Unternehmen zu verlassen, wenn das Arbeitsumfeld schwer zu vorhersagen ist und ein hohes Maß an Ineffizienz herrscht. Außerdem können ein quantitativ und kostengetriebener Ansatz zur Mitarbeiterführung einen negativen Einfluss auf die Mitarbeiterbindung haben (Booth und Hamer 2007). Ebenso wie mangelnde Anerkennung (Abassi et. al 2000). Ein starkes Kommunikationssystem hingegen kann das Bedürfnis nach Information stillen und somit positiv zu einer geringen Mitarbeiterfluktuation beitragen. Auch die Organisationsgröße und -stabilität können Prädiktoren für die Mitarbeiterfluktuation sein. Große Organisationen bieten häufig eine höhere Entlohnung sowie bessere Aufstiegsmöglichkeiten und tragen somit zur Mitarbeiterbindung bei (Idson und Feaster 1990) .Bezahlung und bezahlungsbezogene Variablen haben laut Griffeth et al. (2000) allerdings einen eher moderaten Einfluss auf die Fluktuation. Allerdings scheint die Beziehung auch abhängig von der Leistung des Mitarbeiters zu sein. So ist die Kündigungswahrscheinlichkeit bei High-Potentials höher, wenn sie nicht ausreichend belohnt werden.  \n",
    "\n",
    "Arbeitsbedingter Stress (Jobstress sowie durch Rollenambiguität bedingt) und Arbeitsunzufriedenheit sowie mangelndes organisationales Commitment (Mitarbeiterbindung) sind jobbezogene Faktoren und somit individuelle Entscheidungen, die zu einer arbeitnehmerseitigen Kündigung beitragen können. Auch persönliche Handlungsmacht bzw. Kontrollüberzeugung, also inwiefern ein Mitarbeiter glaubt, dass externe Faktoren die Ergebnisse und ihr Handeln beeinflussen, können einen Einfluss auf die Fluktuation nehmen (Firth et al. 2004). Zu den externen Faktoren zählt auch der Arbeitsmarkt und die Arbeitslosenquote. So argumentiert Trevor (2001) beispielsweise, dass lokale Arbeitslosenquoten in Wechselwirkung mit der Arbeitszufriedenheit die Fluktuation auf dem Markt vorhersagen können."
   ]
  },
  {
   "cell_type": "code",
   "execution_count": null,
   "metadata": {
    "vscode": {
     "languageId": "plaintext"
    }
   },
   "outputs": [],
   "source": []
  }
 ],
 "metadata": {
  "language_info": {
   "name": "python"
  }
 },
 "nbformat": 4,
 "nbformat_minor": 2
}
