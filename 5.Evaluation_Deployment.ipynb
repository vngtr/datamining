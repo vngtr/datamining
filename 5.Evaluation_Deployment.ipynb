{
 "cells": [
  {
   "cell_type": "markdown",
   "metadata": {},
   "source": [
    "Limitationen\n",
    "\n",
    "- unausgeglichene Daten \n",
    "- keine \"echten\" Daten\n",
    "- keine Längschnittdaten (zeitlich dynamische Features nicht berücksichtigt, z.B. Arbeitslosenquote)\n",
    "- kleiner Datensatz"
   ]
  },
  {
   "cell_type": "markdown",
   "metadata": {},
   "source": [
    "#### Literaturverzeichnis\n",
    "\n",
    "- Abbasi, Sami M.; Hollman, Kenneth W. (2000): Turnover: The Real Bottom Line. In: Public Personnel Management 29 (3), S. 333–342. DOI: 10.1177/009102600002900303.  \n",
    "- Booth, Simon; Hamer, Kristian (2007): Labour turnover in the retail industry. In: International Journal of Retail & Distribution Management 35 (4), S. 289–307. DOI: 10.1108/09590550710736210.    \n",
    "- Breiman, Leo (2001): Random Forests. In: Machine Learning 45 (1), S. 5–32. DOI: 10.1023/A:1010933404324.  \n",
    "- Chapman, P.; Clinton, J.; Kerber, R.; Khabaza, T.; Reinartz, T.; Shearer, C. (2000): CRISP-DM 1.0: Step-by-step data mining guide.  \n",
    "- Chen, Tianqi; He, Tong; Benesty, Michael; Khotilovich, Vadim; Tang, Yuan; Cho, Hyunsu et al. (2014): xgboost: eXtreme Gradient Boosting: The R Foundation.  \n",
    "- Cortes, Corinna; Vapnik, Vladimir (1995): Support-vector networks. In: Machine Learning 20 (3), S. 273–297. DOI: 10.1007/BF00994018.  \n",
    "- Dolatabadi, Sepideh Hassankhani; Keynia, Farshid (2017): Designing of customer and employee churn prediction model based on data mining method and neural predictor. In: 2nd International Conference on Computer and Communication Systems (ICCCS). 2017 2nd International Conference on Computer and Communication Systems (ICCCS). Krakow, Poland, 7/11/2017 - 7/14/2017: IEEE / Institute of Electrical and Electronics Engineers Incorporated, S. 74–77.  \n",
    "- Eckerson, Wayne W. (2007): Predictive analytics. Extending the Value of Your Data Warehousing Investment. Online verfügbar unter http://download.101com.com/pub/tdwi/files/pa_report_q107_f.pdf.  \n",
    "- Ekawati, Ardhianiswari Diah (2019): Predictive Analytics in Employee Churn: A Systematic Literature Review. In: Journal of Management Information and Decision Sciences 22.  \n",
    "- Firth, Lucy; Mellor, David J.; Moore, Kathleen A.; Loquet, Claude (2004): How can managers reduce employee intention to quit? In: Journal of Managerial Psych 19 (2), S. 170–187. DOI: 10.1108/02683940410526127.  \n",
    "- Fitzenz, Jac; Mattox, John (2014): Predictive analytics for human resources. Hobokjen, New Jersey: Wiley (Wiley & SAS business series). Online verfügbar unter https://ebookcentral.proquest.com/lib/kxp/detail.action?docID=1734303.  \n",
    "- Griffeth, Rodger W.; Hom, Peter W.; Gaertner, Stefan (2000): A Meta-Analysis of Antecedents and Correlates of Employee Turnover: Update, Moderator Tests, and Research Implications for the Next Millennium. In: Journal of Management 26 (3), S. 463–488. DOI: 10.1177/014920630002600305.  \n",
    "- Idson, Todd L.; Feaster, Daniel J. (1990): A Selectivity Model of Employer-Size Wage Differentials. In: Journal of Labor Economics 8 (1, Part 1), S. 99–122. DOI: 10.1086/298238.  \n",
    "- Monsef, Roschan (2023): Arbeitskräftefluktuation - Corona-Tief überwunden, neue Rezessionssorgen spürbar. IW-Kurzbericht 69/2023. Hg. v. Institut der deutschen Wirtschaft.  \n",
    "- Ongori, H. (2007): A review of the literature on employee turnover. In: 1993-8233. Online verfügbar unter http://ithuteng.ub.bw/handle/10311/1154.\n",
    "Palich, L. (1995): Managing in the international context: Testing cultural generality of sources of commitment to multinational enterprises. In: Journal of Management 21 (4), S. 671–690. DOI: 10.1016/0149-2063(95)90005-5.  \n",
    "- Rish, I (2001): An empirical study of the naive Bayes classifier. Online verfügbar unter https://www.dors.it/documentazione/testo/201911/10.1.1.330.2788.pdf.  \n",
    "- Rombaut, Evy; Guerry, Marie-Anne (2020): The effectiveness of employee retention through an uplift modeling approach. In: IJM 41 (8), S. 1199–1220. DOI: 10.1108/IJM-04-2019-0184.  \n",
    "- Saltz, Jeffrey; Shamshurin, Ivan; Crowston, Kevin (2017): Comparing Data Science Project Management Methodologies via a Controlled Experiment. In: Proceedings of the 50th Hawaii International Conference on System Sciences (2017): Hawaii International Conference on System Sciences.  \n",
    "- Saradhi, V. Vijaya; Palshikar, Girish Keshav (2011): Employee churn prediction. In: Expert Systems with Applications 38 (3), S. 1999–2006. DOI: 10.1016/j.eswa.2010.07.134.  \n",
    "- Sesil, James C. (2014): Applying advanced analytics to HR management decisions. Methods for selection, developing incentives, and improving collaboration. Upper Saddle River, New Jersey: Pearson Education, Inc.  \n",
    "- Trevor, C. O. (2001): INTERACTIONS AMONG ACTUAL EASE-OF-MOVEMENT DETERMINANTS AND JOB SATISFACTION IN THE PREDICTION OF VOLUNTARY TURNOVER. In: Academy of Management Journal 44 (4), S. 621–638. DOI: 10.2307/3069407.  \n",
    "- Zuber, A. (2001): A career in food service cons: high turnover: Nations Restaurant News.  \n",
    "\n",
    "\n",
    "\n"
   ]
  }
 ],
 "metadata": {
  "language_info": {
   "name": "python"
  }
 },
 "nbformat": 4,
 "nbformat_minor": 2
}
